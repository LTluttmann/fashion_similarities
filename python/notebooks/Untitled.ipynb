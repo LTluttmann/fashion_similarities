{
 "cells": [
  {
   "cell_type": "code",
   "execution_count": 34,
   "metadata": {},
   "outputs": [],
   "source": [
    "import numpy as np\n",
    "import matplotlib as plt"
   ]
  },
  {
   "cell_type": "code",
   "execution_count": 35,
   "metadata": {},
   "outputs": [],
   "source": [
    "p1 = np.array([1, 2])"
   ]
  },
  {
   "cell_type": "code",
   "execution_count": 36,
   "metadata": {},
   "outputs": [],
   "source": [
    "p2 = np.array([2, 1])"
   ]
  },
  {
   "cell_type": "code",
   "execution_count": 37,
   "metadata": {},
   "outputs": [
    {
     "name": "stdout",
     "output_type": "stream",
     "text": [
      "1.4142135623730951\n"
     ]
    }
   ],
   "source": [
    "real_dist = np.sqrt(np.sum((p1-p2)**2))\n",
    "print(real_dist)"
   ]
  },
  {
   "cell_type": "code",
   "execution_count": 38,
   "metadata": {},
   "outputs": [],
   "source": [
    "w = real_dist*2\n",
    "num_hashes = 100000"
   ]
  },
  {
   "cell_type": "code",
   "execution_count": 39,
   "metadata": {},
   "outputs": [
    {
     "data": {
      "text/plain": [
       "2.8284271247461903"
      ]
     },
     "execution_count": 39,
     "metadata": {},
     "output_type": "execute_result"
    }
   ],
   "source": [
    "w"
   ]
  },
  {
   "cell_type": "code",
   "execution_count": 40,
   "metadata": {},
   "outputs": [],
   "source": [
    "def hash_table_euclidean(data, w, num_hashes=10):\n",
    "    b = np.random.uniform(0, w, num_hashes)\n",
    "    v = np.random.randn(data.shape[1], num_hashes)\n",
    "    return np.floor((data.dot(v)-b)/w)"
   ]
  },
  {
   "cell_type": "code",
   "execution_count": 41,
   "metadata": {},
   "outputs": [],
   "source": [
    "res = []\n",
    "for i in range(1000):\n",
    "    x = np.random.normal(0,1,2)\n",
    "    b = np.random.uniform(0, w)\n",
    "    hash1 = np.ceil((p1.dot(x)/np.sqrt(x.dot(x))-b) /w).astype(\"int\")\n",
    "    hash2 = np.ceil((p2.dot(x)/np.sqrt(x.dot(x))-b)/w).astype(\"int\")\n",
    "    res.append(hash1==hash2)"
   ]
  },
  {
   "cell_type": "code",
   "execution_count": 47,
   "metadata": {},
   "outputs": [],
   "source": [
    "res = []\n",
    "for i in range(1000):\n",
    "    x = np.random.normal(0,1,2)\n",
    "    b = np.random.uniform(0, w)\n",
    "    hash1 = np.ceil((p1.dot(x/np.sqrt(x.dot(x)))+b) /w).astype(\"int\")\n",
    "    hash2 = np.ceil((p2.dot(x/np.sqrt(x.dot(x)))+b)/w).astype(\"int\")\n",
    "    res.append(hash1==hash2)"
   ]
  },
  {
   "cell_type": "code",
   "execution_count": 48,
   "metadata": {},
   "outputs": [
    {
     "data": {
      "text/plain": [
       "0.683"
      ]
     },
     "execution_count": 48,
     "metadata": {},
     "output_type": "execute_result"
    }
   ],
   "source": [
    "np.sum(res)/1000"
   ]
  },
  {
   "cell_type": "code",
   "execution_count": 44,
   "metadata": {},
   "outputs": [],
   "source": [
    "res = hash_table_euclidean(np.vstack((p1,p2)), w, num_hashes).T"
   ]
  },
  {
   "cell_type": "code",
   "execution_count": 45,
   "metadata": {},
   "outputs": [],
   "source": [
    "prob = np.sum(res[:,0] == res[:,1])/num_hashes"
   ]
  },
  {
   "cell_type": "code",
   "execution_count": 46,
   "metadata": {},
   "outputs": [
    {
     "data": {
      "text/plain": [
       "0.60948"
      ]
     },
     "execution_count": 46,
     "metadata": {},
     "output_type": "execute_result"
    }
   ],
   "source": [
    "prob"
   ]
  },
  {
   "cell_type": "code",
   "execution_count": 16,
   "metadata": {},
   "outputs": [
    {
     "name": "stdout",
     "output_type": "stream",
     "text": [
      "0.60966 should be approximately 0.5\n"
     ]
    }
   ],
   "source": [
    "if real_dist < w:\n",
    "    print(f\"{prob} should be approximately {1-real_dist/w}\")\n",
    "elif real_dist>= 2*w:\n",
    "    print(f\"probability ({prob}) should be at most 0.33\")"
   ]
  },
  {
   "cell_type": "code",
   "execution_count": 428,
   "metadata": {},
   "outputs": [],
   "source": [
    "a=np.random.randn(1, 300)"
   ]
  },
  {
   "cell_type": "code",
   "execution_count": 429,
   "metadata": {},
   "outputs": [],
   "source": [
    "import matplotlib.pyplot as plt"
   ]
  },
  {
   "cell_type": "code",
   "execution_count": 430,
   "metadata": {},
   "outputs": [
    {
     "data": {
      "text/plain": [
       "(array([ 2.,  4., 12., 35., 58., 55., 57., 49., 23.,  5.]),\n",
       " array([-3.36866648, -2.77401834, -2.17937019, -1.58472204, -0.9900739 ,\n",
       "        -0.39542575,  0.1992224 ,  0.79387054,  1.38851869,  1.98316684,\n",
       "         2.57781498]),\n",
       " <BarContainer object of 10 artists>)"
      ]
     },
     "execution_count": 430,
     "metadata": {},
     "output_type": "execute_result"
    },
    {
     "data": {
      "image/png": "[encoded data removed]",
      "text/plain": [
       "<Figure size 432x288 with 1 Axes>"
      ]
     },
     "metadata": {
      "needs_background": "light"
     },
     "output_type": "display_data"
    }
   ],
   "source": [
    "plt.hist(a.ravel())"
   ]
  },
  {
   "cell_type": "code",
   "execution_count": null,
   "metadata": {},
   "outputs": [],
   "source": []
  }
 ],
 "metadata": {
  "kernelspec": {
   "display_name": "Python 3",
   "language": "python",
   "name": "python3"
  },
  "language_info": {
   "codemirror_mode": {
    "name": "ipython",
    "version": 3
   },
   "file_extension": ".py",
   "mimetype": "text/x-python",
   "name": "python",
   "nbconvert_exporter": "python",
   "pygments_lexer": "ipython3",
   "version": "3.9.0"
  }
 },
 "nbformat": 4,
 "nbformat_minor": 4
}
